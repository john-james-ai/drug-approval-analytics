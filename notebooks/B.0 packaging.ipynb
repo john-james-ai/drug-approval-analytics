{
 "cells": [
  {
   "cell_type": "markdown",
   "source": [
    "# Packaging\r\n",
    "Scripts used to finalize the package prior to distribution."
   ],
   "metadata": {}
  },
  {
   "cell_type": "code",
   "execution_count": null,
   "source": [
    "import pandas as pd\r\n",
    "from configsrc.application.config import Config"
   ],
   "outputs": [],
   "metadata": {}
  },
  {
   "cell_type": "markdown",
   "source": [
    "## Create Metadata Configuration File\r\n",
    "The metadata for the data sourcees have been tabulated and stored in the metadata directory. We read the data, convert it to a dictionary format and write the data to the 'in-package' metadata configuration file. "
   ],
   "metadata": {}
  },
  {
   "cell_type": "code",
   "execution_count": null,
   "source": [
    "filepath = './data/metadata/data_sources.csv'\r\n",
    "\r\n",
    "df = pd.read_csv(filepath, index_col=0)\r\n",
    "sources = df.to_dict(orient='split')\r\n",
    "\r\n",
    "config = Config('metadata')\r\n",
    "for k,v in sources.items():\r\n",
    "    config.set('data_sources', k, v)"
   ],
   "outputs": [],
   "metadata": {}
  }
 ],
 "metadata": {
  "orig_nbformat": 4,
  "language_info": {
   "name": "python"
  }
 },
 "nbformat": 4,
 "nbformat_minor": 2
}