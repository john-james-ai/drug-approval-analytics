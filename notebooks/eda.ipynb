{
 "cells": [
  {
   "cell_type": "markdown",
   "metadata": {},
   "source": [
    "# Studies\r\n",
    "---"
   ]
  },
  {
   "cell_type": "code",
   "execution_count": 28,
   "metadata": {},
   "outputs": [],
   "source": [
    "from datetime import datetime\r\n",
    "import pandas as pd\r\n",
    "pd.set_option('display.max_rows', 500)\r\n",
    "pd.set_option('display.max_columns', 500)\r\n",
    "pd.set_option('display.width', 1000)\r\n",
    "file=\"./data/extracted/aact/studies.csv\""
   ]
  },
  {
   "cell_type": "code",
   "execution_count": 2,
   "metadata": {},
   "outputs": [
    {
     "name": "stdout",
     "output_type": "stream",
     "text": [
      "(380740, 64)\n",
      "Index(['nct_id', 'nlm_last_extracted_description', 'study_first_submitted_date',\n",
      "       'results_first_submitted_date', 'disposition_first_submitted_date',\n",
      "       'last_update_submitted_date', 'study_first_submitted_qc_date',\n",
      "       'study_first_posted_date', 'study_first_posted_date_type',\n",
      "       'results_first_submitted_qc_date', 'results_first_posted_date',\n",
      "       'results_first_posted_date_type', 'disposition_first_submitted_qc_date',\n",
      "       'disposition_first_posted_date', 'disposition_first_posted_date_type',\n",
      "       'last_update_submitted_qc_date', 'last_update_posted_date',\n",
      "       'last_update_posted_date_type', 'start_month_year', 'start_date_type',\n",
      "       'start_date', 'verification_month_year', 'verification_date',\n",
      "       'completion_month_year', 'completion_date_type', 'completion_date',\n",
      "       'primary_completion_month_year', 'primary_completion_date_type',\n",
      "       'primary_completion_date', 'target_duration', 'study_type', 'acronym',\n",
      "       'baseline_population', 'brief_title', 'official_title',\n",
      "       'overall_status', 'last_known_status', 'phase', 'enrollment',\n",
      "       'enrollment_type', 'source', 'limitations_and_caveats',\n",
      "       'number_of_arms', 'number_of_groups', 'why_stopped',\n",
      "       'has_expanded_access', 'expanded_access_type_individual',\n",
      "       'expanded_access_type_intermediate', 'expanded_access_type_treatment',\n",
      "       'has_dmc', 'is_fda_regulated_drug', 'is_fda_regulated_device',\n",
      "       'is_unapproved_device', 'is_ppsd', 'is_us_export', 'biospec_retention',\n",
      "       'biospec_description', 'ipd_time_frame', 'ipd_access_criteria',\n",
      "       'ipd_url', 'plan_to_share_ipd', 'plan_to_share_ipd_description',\n",
      "       'created_at', 'updated_at'],\n",
      "      dtype='object')\n",
      "{'observations': 380740}\n",
      "{'observations': 380740, 'variables': 64}\n",
      "{'observations': 380740, 'variables': 64}\n",
      "{'observations': 380740, 'variables': 64}\n",
      "{'observations': 380740, 'variables': 64, 'interventional': 296361}\n",
      "   observations  variables  interventional     memory  nfeatures  dropped\n",
      "0        380740         64          296361  874644396         17       47\n",
      "string            29\n",
      "datetime64[ns]    18\n",
      "boolean           10\n",
      "object             4\n",
      "float64            3\n",
      "dtype: int64\n",
      "nct_id                              0.000000\n",
      "nlm_last_extracted_description       0.000000\n",
      "study_first_submitted_date          0.000000\n",
      "results_first_submitted_date        1.358961\n",
      "disposition_first_submitted_date    1.530535\n",
      "                                      ...   \n",
      "ipd_url                             1.538390\n",
      "plan_to_share_ipd                   0.962706\n",
      "plan_to_share_ipd_description       1.422764\n",
      "created_at                          0.000000\n",
      "updated_at                          0.000000\n",
      "Length: 64, dtype: float64\n"
     ]
    }
   ],
   "source": [
    "df = pd.read_csv(file, index_col=0, low_memory=False)\r\n",
    "print(df.shape)\r\n",
    "print(df.columns)\r\n",
    "date_cols = [col for col in df.columns if (col.endswith(\"date\") or col.endswith(\"at\"))]\r\n",
    "df = pd.read_csv(file, index_col=0, parse_dates=date_cols, low_memory=False, dtype={\"nct_id\":\"string\", \"nlm_last_extracted_description\":\"string\",\r\n",
    "\"start_month_year\":\"string\",\"start_date_type\":\"string\", \"verification_month_year\":\"string\",\r\n",
    "\"completion_month_year\":\"string\", \r\n",
    "\"completion_date_type\":\"string\", \"primary_completion_month_year\":\"string\",\r\n",
    "\"primary_completion_date_type\":\"string\", \r\n",
    "\"target_duration\":\"string\", \"study_type\":\"string\", \"acronym\":\"string\", \"baseline_population\":\"string\",\r\n",
    "\"brief_title\":\"string\", \"official_title\":\"string\", \"overall_status\":\"string\", \"last_known_status\":\"string\",\r\n",
    "\"phase\":\"string\", \"enrollment\":\"float\", \"enrollment_type\":\"string\", \"source\":\"string\", \"limitations_and_caveats\":\"string\",\r\n",
    "\"number_of_arms\":\"float\", \"number_of_groups\":\"float\", \"why_stopped\":\"string\", \"has_expanded_access\":\"boolean\",\r\n",
    "\"expanded_access_type_individual\":\"boolean\", \"expanded_access_type_intermediate\":\"boolean\", \"expanded_access_type_treatment\":\"boolean\",\r\n",
    "\"has_dmc\":\"boolean\", \"is_fda_regulated_drug\":\"boolean\", \"is_fda_regulated_device\":\"boolean\", \"is_unapproved_device\":\"boolean\",\r\n",
    "\"is_ppsd\":\"boolean\", \"is_us_export\":\"boolean\", \"biospec_retention\":\"string\", \"biospec_description\":\"string\",\r\n",
    "\"plan_to_share_ipd\":\"string\", \"plan_to_share_ipd_description\":\"string\", \"ipd_time_frame\":\"string\", \"ipd_access_criteria\":\"string\",\r\n",
    "\"ipd_url\":\"string\"})\r\n",
    "\r\n",
    "eda_study = {}\r\n",
    "eda_study['observations'] = df.shape[0]\r\n",
    "print(eda_study)\r\n",
    "eda_study['variables'] = df.shape[1] \r\n",
    "print(eda_study)\r\n",
    "eda_study_missing = df.isnull().sum()\r\n",
    "print(eda_study)\r\n",
    "eda_study_pct_missing = df.isnull().sum() / (df.shape[0] * df.shape[1]) * 100\r\n",
    "print(eda_study)\r\n",
    "eda_study['interventional'] = df[\"study_type\"][df[\"study_type\"] == 'Interventional'].count()\r\n",
    "print(eda_study)\r\n",
    "\r\n",
    "eda_study['memory'] = df.memory_usage(index=True, deep=True).sum(axis=0)\r\n",
    "\r\n",
    "eda_study_features = [\"nct_id\", \"results_first_submitted_date\", \"disposition_first_submitted_date\",\r\n",
    "\"start_date\", \"completion_date\", \"primary_completion_date\", \"target_duration\", \"study_type\",\r\n",
    "\"baseline_population\", \"overall_status\", \"last_known_status\", \"phase\", \"enrollment\", \"enrollment_type\", \r\n",
    "\"number_of_arms\", \"number_of_groups\", \"is_fda_regulated_drug\"]\r\n",
    "\r\n",
    "eda_study['nfeatures'] = len(eda_study_features)\r\n",
    "eda_study[\"dropped\"] = eda_study['variables'] - len(eda_study_features)\r\n",
    "\r\n",
    "eda_study_dtype_counts = df.dtypes.value_counts()\r\n",
    "\r\n",
    "eda_study_df = pd.DataFrame(data=eda_study, index=[0])\r\n",
    "\r\n",
    "\r\n",
    "\r\n",
    "print(eda_study_df)\r\n",
    "print(eda_study_dtype_counts)\r\n",
    "print(eda_study_pct_missing)\r\n",
    "\r\n",
    "\r\n"
   ]
  },
  {
   "cell_type": "code",
   "execution_count": 8,
   "metadata": {},
   "outputs": [
    {
     "name": "stdout",
     "output_type": "stream",
     "text": [
      "Index([string, datetime64[ns], boolean, object, float64], dtype='object')\n",
      "nct_id                                   0\n",
      "nlm_last_extracted_description            0\n",
      "study_first_submitted_date               0\n",
      "results_first_submitted_date        331143\n",
      "disposition_first_submitted_date    372951\n",
      "                                     ...  \n",
      "ipd_url                             374865\n",
      "plan_to_share_ipd                   234586\n",
      "plan_to_share_ipd_description       346690\n",
      "created_at                               0\n",
      "updated_at                               0\n",
      "Length: 64, dtype: int64\n"
     ]
    }
   ],
   "source": [
    "print(eda_study_dtype_counts.index)\r\n",
    "print(eda_study_missing)"
   ]
  },
  {
   "cell_type": "code",
   "execution_count": 29,
   "metadata": {},
   "outputs": [
    {
     "name": "stdout",
     "output_type": "stream",
     "text": [
      "                                                           min                        max\n",
      "study_first_submitted_date          1999-09-17 00:00:00.000000 2021-06-15 00:00:00.000000\n",
      "results_first_submitted_date        2008-09-25 00:00:00.000000 2021-06-02 00:00:00.000000\n",
      "disposition_first_submitted_date    2008-10-09 00:00:00.000000 2021-06-14 00:00:00.000000\n",
      "last_update_submitted_date          2005-06-23 00:00:00.000000 2021-06-15 00:00:00.000000\n",
      "study_first_submitted_qc_date       1999-09-17 00:00:00.000000 2021-06-15 00:00:00.000000\n",
      "study_first_posted_date             1999-09-20 00:00:00.000000 2021-06-16 00:00:00.000000\n",
      "results_first_submitted_qc_date     2008-09-25 00:00:00.000000 2021-06-15 00:00:00.000000\n",
      "results_first_posted_date           2008-09-26 00:00:00.000000 2021-06-16 00:00:00.000000\n",
      "disposition_first_submitted_qc_date 2008-10-22 00:00:00.000000 2021-06-14 00:00:00.000000\n",
      "disposition_first_posted_date       2009-08-10 00:00:00.000000 2021-06-16 00:00:00.000000\n",
      "last_update_submitted_qc_date       2005-06-23 00:00:00.000000 2021-06-15 00:00:00.000000\n",
      "last_update_posted_date             2005-06-24 00:00:00.000000 2021-06-16 00:00:00.000000\n",
      "start_date                          1900-01-31 00:00:00.000000 2100-01-31 00:00:00.000000\n",
      "verification_date                   1920-01-31 00:00:00.000000 2021-06-30 00:00:00.000000\n",
      "completion_date                     1900-01-31 00:00:00.000000 2100-12-31 00:00:00.000000\n",
      "primary_completion_date             1900-01-31 00:00:00.000000 2100-12-31 00:00:00.000000\n",
      "created_at                          2021-02-01 06:38:11.229409 2021-06-17 06:37:01.556690\n",
      "updated_at                          2021-02-01 06:38:11.229409 2021-06-17 06:37:01.556690\n"
     ]
    }
   ],
   "source": [
    "df_dt = df.select_dtypes(include=['datetime'])\r\n",
    "d2 = {}\r\n",
    "d2['min'] = df_dt.min()\r\n",
    "d2['max'] = df_dt.max().values\r\n",
    "df2 = pd.DataFrame(data=d2)\r\n",
    "print(df2)"
   ]
  },
  {
   "cell_type": "code",
   "execution_count": 31,
   "metadata": {},
   "outputs": [
    {
     "data": {
      "text/html": [
       "<div>\n",
       "<style scoped>\n",
       "    .dataframe tbody tr th:only-of-type {\n",
       "        vertical-align: middle;\n",
       "    }\n",
       "\n",
       "    .dataframe tbody tr th {\n",
       "        vertical-align: top;\n",
       "    }\n",
       "\n",
       "    .dataframe thead th {\n",
       "        text-align: right;\n",
       "    }\n",
       "</style>\n",
       "<table border=\"1\" class=\"dataframe\">\n",
       "  <thead>\n",
       "    <tr style=\"text-align: right;\">\n",
       "      <th></th>\n",
       "      <th>is_ppsd</th>\n",
       "      <th>has_dmc</th>\n",
       "    </tr>\n",
       "  </thead>\n",
       "  <tbody>\n",
       "    <tr>\n",
       "      <th>count</th>\n",
       "      <td>9</td>\n",
       "      <td>311816</td>\n",
       "    </tr>\n",
       "    <tr>\n",
       "      <th>unique</th>\n",
       "      <td>1</td>\n",
       "      <td>2</td>\n",
       "    </tr>\n",
       "    <tr>\n",
       "      <th>top</th>\n",
       "      <td>True</td>\n",
       "      <td>False</td>\n",
       "    </tr>\n",
       "    <tr>\n",
       "      <th>freq</th>\n",
       "      <td>9</td>\n",
       "      <td>196221</td>\n",
       "    </tr>\n",
       "  </tbody>\n",
       "</table>\n",
       "</div>"
      ],
      "text/plain": [
       "       is_ppsd has_dmc\n",
       "count        9  311816\n",
       "unique       1       2\n",
       "top       True   False\n",
       "freq         9  196221"
      ]
     },
     "execution_count": 31,
     "metadata": {},
     "output_type": "execute_result"
    }
   ],
   "source": [
    "df[['is_ppsd', 'has_dmc']].describe()"
   ]
  }
 ],
 "metadata": {
  "interpreter": {
   "hash": "4b62ee41eae088310f22249bc5053723b8dd958b1848936c1eeb1c046d6c591a"
  },
  "kernelspec": {
   "display_name": "Python 3.9.5 64-bit ('fda': conda)",
   "name": "python3"
  },
  "language_info": {
   "codemirror_mode": {
    "name": "ipython",
    "version": 3
   },
   "file_extension": ".py",
   "mimetype": "text/x-python",
   "name": "python",
   "nbconvert_exporter": "python",
   "pygments_lexer": "ipython3",
   "version": "3.9.5"
  },
  "orig_nbformat": 4
 },
 "nbformat": 4,
 "nbformat_minor": 2
}