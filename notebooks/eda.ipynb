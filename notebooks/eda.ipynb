{
 "cells": [
  {
   "cell_type": "markdown",
   "metadata": {},
   "source": [
    "# Predict-FDA Exploratory Data Analysis (EDA)\r\n",
    "---\r\n",
    "bibiography: [references/references.bib]\r\n",
    "---\r\n",
    "\r\n",
    "This EDA is the first phase of the Predict-FDA project. Here, we examine the quality, scope, and utility of the data that will be used for inference and predictive model development. The data sources include:\r\n",
    "\r\n",
    "- Aggregate Content of ClinicalTrials.gov (AACT) - Clinical Trials Transformation Initiative (CCTI)\r\n",
    "- Drugs@FDA - U.S. Food & Drug Administration\r\n",
    "- DrugCentral 2021\r\n",
    "\r\n",
    "AACT is a publicly available relational database that contains all information (protocol and result data elements) about every study registered in ClinicalTrials.gov [@]. "
   ]
  },
  {
   "cell_type": "markdown",
   "metadata": {},
   "source": [
    "\r\n"
   ]
  },
  {
   "cell_type": "markdown",
   "metadata": {},
   "source": []
  }
 ],
 "metadata": {
  "interpreter": {
   "hash": "4b62ee41eae088310f22249bc5053723b8dd958b1848936c1eeb1c046d6c591a"
  },
  "kernelspec": {
   "display_name": "Python 3.9.5 64-bit ('fda': conda)",
   "name": "python3"
  },
  "language_info": {
   "name": "python",
   "version": ""
  },
  "orig_nbformat": 4
 },
 "nbformat": 4,
 "nbformat_minor": 2
}