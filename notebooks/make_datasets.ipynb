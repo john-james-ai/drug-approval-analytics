{
 "cells": [
  {
   "cell_type": "markdown",
   "metadata": {},
   "source": [
    "# Make Datasets\r\n",
    "This module reads the Postgres data and stores them in csv files converting the data types to their python equivalents."
   ]
  },
  {
   "cell_type": "code",
   "execution_count": 1,
   "metadata": {},
   "outputs": [],
   "source": [
    "import os\r\n",
    "import pandas as pd\r\n",
    "\r\n",
    "from configs.config import get_config\r\n",
    "from src.database.aact_db import AACTDao"
   ]
  },
  {
   "cell_type": "code",
   "execution_count": 2,
   "metadata": {},
   "outputs": [
    {
     "name": "stdout",
     "output_type": "stream",
     "text": [
      "Initializing AACT database.\n",
      "Acquiring connection\n",
      "Obtained connection to AACT database.\n"
     ]
    }
   ],
   "source": [
    "# -----------------------------------------------------------------------------#\r\n",
    "#                               SETUP                                          #\r\n",
    "# -----------------------------------------------------------------------------#\r\n",
    "# Instantiate the data access object for the AACT database\r\n",
    "aact = AACTDao()\r\n",
    "directories = get_config(section=\"directories\")"
   ]
  },
  {
   "cell_type": "code",
   "execution_count": 3,
   "metadata": {},
   "outputs": [
    {
     "name": "stdout",
     "output_type": "stream",
     "text": [
      "     (nct_id,)                   (nlm_download_date_description,)  \\\n",
      "0  NCT04619108  ClinicalTrials.gov processed this data on Janu...   \n",
      "1  NCT03696212  ClinicalTrials.gov processed this data on Febr...   \n",
      "2  NCT03694444  ClinicalTrials.gov processed this data on Febr...   \n",
      "3  NCT03694145  ClinicalTrials.gov processed this data on Febr...   \n",
      "4  NCT03692052  ClinicalTrials.gov processed this data on Febr...   \n",
      "\n",
      "  (study_first_submitted_date,) (results_first_submitted_date,)  \\\n",
      "0                    2020-11-02                            None   \n",
      "1                    2018-10-03                            None   \n",
      "2                    2018-09-23                            None   \n",
      "3                    2018-10-01                            None   \n",
      "4                    2018-09-10                            None   \n",
      "\n",
      "  (disposition_first_submitted_date,) (last_update_submitted_date,)  \\\n",
      "0                                None                    2020-11-02   \n",
      "1                                None                    2021-02-19   \n",
      "2                                None                    2021-02-19   \n",
      "3                                None                    2021-02-17   \n",
      "4                                None                    2021-02-18   \n",
      "\n",
      "  (study_first_submitted_qc_date,) (study_first_posted_date,)  \\\n",
      "0                       2020-11-02                 2020-11-06   \n",
      "1                       2018-10-03                 2018-10-04   \n",
      "2                       2018-10-02                 2018-10-03   \n",
      "3                       2018-10-01                 2018-10-03   \n",
      "4                       2018-09-28                 2018-10-02   \n",
      "\n",
      "  (study_first_posted_date_type,) (results_first_submitted_qc_date,)  ...  \\\n",
      "0                          Actual                               None  ...   \n",
      "1                          Actual                               None  ...   \n",
      "2                          Actual                               None  ...   \n",
      "3                          Actual                               None  ...   \n",
      "4                          Actual                               None  ...   \n",
      "\n",
      "  (is_us_export,) (biospec_retention,) (biospec_description,)  \\\n",
      "0            None                 None                          \n",
      "1            None                 None                          \n",
      "2            None                 None                          \n",
      "3            None                 None                          \n",
      "4            None                 None                          \n",
      "\n",
      "  (ipd_time_frame,) (ipd_access_criteria,) (ipd_url,) (plan_to_share_ipd,)  \\\n",
      "0              None                   None       None                 None   \n",
      "1              None                   None       None            Undecided   \n",
      "2              None                   None       None                 None   \n",
      "3              None                   None       None                   No   \n",
      "4              None                   None       None                   No   \n",
      "\n",
      "  (plan_to_share_ipd_description,)              (created_at,)  \\\n",
      "0                             None 2021-02-01 06:51:54.185796   \n",
      "1                             None 2021-02-25 05:30:17.069165   \n",
      "2                             None 2021-02-25 05:30:17.582877   \n",
      "3                             None 2021-02-25 05:30:18.915255   \n",
      "4                             None 2021-02-25 05:30:19.454845   \n",
      "\n",
      "               (updated_at,)  \n",
      "0 2021-02-01 06:51:54.185796  \n",
      "1 2021-02-25 05:30:17.069165  \n",
      "2 2021-02-25 05:30:17.582877  \n",
      "3 2021-02-25 05:30:18.915255  \n",
      "4 2021-02-25 05:30:19.454845  \n",
      "\n",
      "[5 rows x 64 columns]\n"
     ]
    }
   ],
   "source": [
    "#df = aact.read_table(\"studies\")\r\n",
    "print(df.info())\r\n",
    "#print(df.shape)"
   ]
  }
 ],
 "metadata": {
  "interpreter": {
   "hash": "4b62ee41eae088310f22249bc5053723b8dd958b1848936c1eeb1c046d6c591a"
  },
  "kernelspec": {
   "display_name": "Python 3.9.5 64-bit ('fda': conda)",
   "name": "python3"
  },
  "language_info": {
   "codemirror_mode": {
    "name": "ipython",
    "version": 3
   },
   "file_extension": ".py",
   "mimetype": "text/x-python",
   "name": "python",
   "nbconvert_exporter": "python",
   "pygments_lexer": "ipython3",
   "version": "3.9.5"
  },
  "orig_nbformat": 4
 },
 "nbformat": 4,
 "nbformat_minor": 2
}