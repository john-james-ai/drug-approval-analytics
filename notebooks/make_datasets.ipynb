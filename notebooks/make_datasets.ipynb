{
 "cells": [
  {
   "cell_type": "markdown",
   "metadata": {},
   "source": [
    "# Make Datasets\r\n",
    "This module reads the Postgres data and stores them in csv files converting the data types to their python equivalents."
   ]
  },
  {
   "cell_type": "code",
   "execution_count": 1,
   "metadata": {},
   "outputs": [],
   "source": [
    "import os\r\n",
    "import shutil\r\n",
    "import pandas as pd\r\n",
    "pd.set_option('display.max_rows',500)\r\n",
    "\r\n",
    "from src.data.database import DBDao, DatasetBuilder\r\n",
    "from src.data.websource import Scraper, Downloader"
   ]
  },
  {
   "cell_type": "code",
   "execution_count": 2,
   "metadata": {},
   "outputs": [],
   "source": [
    "# -----------------------------------------------------------------------------#\r\n",
    "#                               AACT                                           #\r\n",
    "# -----------------------------------------------------------------------------#\r\n",
    "# Convert from PostgreSQL to csv files.\r\n",
    "# aact = DBDao(schema='ctgov', config_section='aactdb')\r\n",
    "# #print(aact.get_table_names())\r\n",
    "# builder = DatasetBuilder()\r\n",
    "# builder.make_datasets(dao=aact, destination=\"aact\")\r\n"
   ]
  },
  {
   "cell_type": "code",
   "execution_count": 3,
   "metadata": {},
   "outputs": [],
   "source": [
    "# -----------------------------------------------------------------------------#\r\n",
    "#                               DRUGS                                          #\r\n",
    "# -----------------------------------------------------------------------------#\r\n",
    "# Save Drugs@FDA data\r\n",
    "# scraper = Scraper(config_section=\"drugsfda\")\r\n",
    "# scraper.download_unzip_file(destination='FDA/drugs')"
   ]
  },
  {
   "cell_type": "code",
   "execution_count": 4,
   "metadata": {},
   "outputs": [
    {
     "name": "stdout",
     "output_type": "stream",
     "text": [
      "Downloading data from https://download.open.fda.gov/drug/label/drug-label-0001-of-0010.json.zip ...complete!\n",
      "Downloading data from https://download.open.fda.gov/drug/label/drug-label-0002-of-0010.json.zip ...complete!\n",
      "Downloading data from https://download.open.fda.gov/drug/label/drug-label-0003-of-0010.json.zip ...complete!\n",
      "Downloading data from https://download.open.fda.gov/drug/label/drug-label-0004-of-0010.json.zip ...complete!\n",
      "Downloading data from https://download.open.fda.gov/drug/label/drug-label-0005-of-0010.json.zip ...complete!\n",
      "Downloading data from https://download.open.fda.gov/drug/label/drug-label-0006-of-0010.json.zip ...complete!\n",
      "Downloading data from https://download.open.fda.gov/drug/label/drug-label-0007-of-0010.json.zip ...complete!\n",
      "Downloading data from https://download.open.fda.gov/drug/label/drug-label-0008-of-0010.json.zip ...complete!\n",
      "Downloading data from https://download.open.fda.gov/drug/label/drug-label-0009-of-0010.json.zip ...complete!\n",
      "Downloading data from https://download.open.fda.gov/drug/label/drug-label-0010-of-0010.json.zip ...complete!\n"
     ]
    }
   ],
   "source": [
    "# -----------------------------------------------------------------------------#\r\n",
    "#                               LABELS                                         #\r\n",
    "# -----------------------------------------------------------------------------#\r\n",
    "downloader = Downloader(config_section=\"openfda_label\")\r\n",
    "downloader.download_files(destination=\"FDA/labels\")"
   ]
  }
 ],
 "metadata": {
  "interpreter": {
   "hash": "4b62ee41eae088310f22249bc5053723b8dd958b1848936c1eeb1c046d6c591a"
  },
  "kernelspec": {
   "display_name": "Python 3.9.5 64-bit ('fda': conda)",
   "name": "python3"
  },
  "language_info": {
   "codemirror_mode": {
    "name": "ipython",
    "version": 3
   },
   "file_extension": ".py",
   "mimetype": "text/x-python",
   "name": "python",
   "nbconvert_exporter": "python",
   "pygments_lexer": "ipython3",
   "version": "3.9.5"
  },
  "orig_nbformat": 4
 },
 "nbformat": 4,
 "nbformat_minor": 2
}