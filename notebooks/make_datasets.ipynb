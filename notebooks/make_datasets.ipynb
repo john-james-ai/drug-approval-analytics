{
 "cells": [
  {
   "cell_type": "markdown",
   "metadata": {},
   "source": [
    "# Make Datasets\r\n",
    "This module reads the Postgres data and stores them in csv files converting the data types to their python equivalents."
   ]
  },
  {
   "cell_type": "code",
   "execution_count": 1,
   "metadata": {},
   "outputs": [],
   "source": [
    "import os\r\n",
    "import shutil\r\n",
    "import pandas as pd\r\n",
    "pd.set_option('display.max_rows',500)\r\n",
    "\r\n",
    "from src.data.database import DBDao, DatasetBuilder\r\n",
    "from src.data.websource import Scraper, Downloader"
   ]
  },
  {
   "cell_type": "code",
   "execution_count": 2,
   "metadata": {},
   "outputs": [
    {
     "name": "stdout",
     "output_type": "stream",
     "text": [
      "Initializing database. Defaults to the AACT database\n",
      "Acquiring connection\n",
      "Obtained connection to AACT database.\n",
      "Processing browse_conditions: 1 of 69\n",
      "Processing all_browse_conditions: 2 of 69\n",
      "Processing browse_interventions: 3 of 69\n",
      "Processing all_browse_interventions: 4 of 69\n",
      "Processing all_cities: 5 of 69\n",
      "Processing conditions: 6 of 69\n",
      "Processing all_conditions: 7 of 69\n",
      "Processing countries: 8 of 69\n",
      "Processing all_countries: 9 of 69\n",
      "Processing design_outcomes: 10 of 69\n",
      "Processing all_design_outcomes: 11 of 69\n",
      "Processing all_facilities: 12 of 69\n",
      "Processing all_group_types: 13 of 69\n",
      "Processing id_information: 14 of 69\n",
      "Processing all_id_information: 15 of 69\n",
      "Processing all_intervention_types: 16 of 69\n",
      "Processing all_interventions: 17 of 69\n",
      "Processing keywords: 18 of 69\n",
      "Processing design_groups: 19 of 69\n",
      "Processing all_keywords: 20 of 69\n",
      "Processing overall_officials: 21 of 69\n",
      "Processing all_overall_official_affiliations: 22 of 69\n",
      "Processing all_overall_officials: 23 of 69\n",
      "Processing all_primary_outcome_measures: 24 of 69\n",
      "Processing all_secondary_outcome_measures: 25 of 69\n",
      "Processing sponsors: 26 of 69\n",
      "Processing all_sponsors: 27 of 69\n",
      "Processing all_states: 28 of 69\n",
      "Processing brief_summaries: 29 of 69\n",
      "Processing baseline_counts: 30 of 69\n",
      "Processing calculated_values: 31 of 69\n",
      "Processing search_results: 32 of 69\n",
      "Processing categories: 33 of 69\n",
      "Processing central_contacts: 34 of 69\n",
      "Processing designs: 35 of 69\n",
      "Processing detailed_descriptions: 36 of 69\n",
      "Processing eligibilities: 37 of 69\n",
      "Processing studies: 38 of 69\n",
      "Processing covid_19_studies: 39 of 69\n",
      "Processing documents: 40 of 69\n",
      "Processing design_group_interventions: 41 of 69\n",
      "Processing ipd_information_types: 42 of 69\n",
      "Processing links: 43 of 69\n",
      "Processing facility_contacts: 44 of 69\n",
      "Processing mesh_headings: 45 of 69\n",
      "Processing mesh_terms: 46 of 69\n",
      "Processing participant_flows: 47 of 69\n",
      "Processing pending_results: 48 of 69\n",
      "Processing milestones: 49 of 69\n",
      "Processing provided_documents: 50 of 69\n",
      "Processing reported_event_totals: 51 of 69\n",
      "Processing responsible_parties: 52 of 69\n",
      "Processing result_agreements: 53 of 69\n",
      "Processing result_contacts: 54 of 69\n",
      "Processing study_references: 55 of 69\n",
      "Processing study_searches: 56 of 69\n",
      "Processing result_groups: 57 of 69\n",
      "Processing baseline_measurements: 58 of 69\n",
      "Processing interventions: 59 of 69\n",
      "Processing drop_withdrawals: 60 of 69\n",
      "Processing facilities: 61 of 69\n",
      "Processing facility_investigators: 62 of 69\n",
      "Processing intervention_other_names: 63 of 69\n",
      "Processing outcomes: 64 of 69\n",
      "Processing outcome_analyses: 65 of 69\n",
      "Processing outcome_analysis_groups: 66 of 69\n",
      "Processing outcome_counts: 67 of 69\n",
      "Processing outcome_measurements: 68 of 69\n",
      "Processing reported_events: 69 of 69\n",
      "Processed 69 tables\n"
     ]
    }
   ],
   "source": [
    "# -----------------------------------------------------------------------------#\r\n",
    "#                               AACT                                           #\r\n",
    "# -----------------------------------------------------------------------------#\r\n",
    "# Convert from PostgreSQL to csv files.\r\n",
    "aact = DBDao(schema='ctgov', config_section='aactdb')\r\n",
    "#print(aact.get_table_names())\r\n",
    "builder = DatasetBuilder()\r\n",
    "builder.make_datasets(dao=aact, destination=\"aact\", force=False)\r\n"
   ]
  },
  {
   "cell_type": "code",
   "execution_count": 3,
   "metadata": {},
   "outputs": [
    {
     "name": "stdout",
     "output_type": "stream",
     "text": [
      "File download complete.\n"
     ]
    }
   ],
   "source": [
    "# -----------------------------------------------------------------------------#\r\n",
    "#                               DRUGS                                          #\r\n",
    "# -----------------------------------------------------------------------------#\r\n",
    "# Save Drugs@FDA data\r\n",
    "scraper = Scraper(config_section=\"drugsfda\")\r\n",
    "scraper.download_unzip_file(destination='FDA/drugs', force=False)"
   ]
  },
  {
   "cell_type": "code",
   "execution_count": 4,
   "metadata": {},
   "outputs": [
    {
     "name": "stdout",
     "output_type": "stream",
     "text": [
      "File download complete.\n"
     ]
    }
   ],
   "source": [
    "# -----------------------------------------------------------------------------#\r\n",
    "#                               LABELS                                         #\r\n",
    "# -----------------------------------------------------------------------------#\r\n",
    "downloader = Downloader(config_section=\"openfda_label\")\r\n",
    "downloader.download_files(destination=\"FDA/labels\", force=False)"
   ]
  }
 ],
 "metadata": {
  "interpreter": {
   "hash": "4b62ee41eae088310f22249bc5053723b8dd958b1848936c1eeb1c046d6c591a"
  },
  "kernelspec": {
   "display_name": "Python 3.9.5 64-bit ('fda': conda)",
   "name": "python3"
  },
  "language_info": {
   "codemirror_mode": {
    "name": "ipython",
    "version": 3
   },
   "file_extension": ".py",
   "mimetype": "text/x-python",
   "name": "python",
   "nbconvert_exporter": "python",
   "pygments_lexer": "ipython3",
   "version": "3.9.5"
  },
  "orig_nbformat": 4
 },
 "nbformat": 4,
 "nbformat_minor": 2
}