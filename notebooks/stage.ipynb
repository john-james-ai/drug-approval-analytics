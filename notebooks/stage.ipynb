{
 "cells": [
  {
   "cell_type": "markdown",
   "metadata": {},
   "source": [
    "# Stage\r\n",
    "Notebook for obtaining the data from its sources, then saving it in a common .csv format in a staging area.\r\n",
    "## AACT Data Source\r\n",
    "This saves the ~53 tables in CTTI's AACT database as ~53 .csv files in the designated staging directory."
   ]
  },
  {
   "cell_type": "code",
   "execution_count": null,
   "metadata": {},
   "outputs": [],
   "source": [
    "# Setup\r\n",
    "import pandas as pd\r\n",
    "\r\n",
    "from src.data.satasource import AACTDataSource, DrugsDataSource, LabelsDataSource\r\n",
    "from configs.config import AACTConfig, DrugsConfig, LabelsConfig"
   ]
  },
  {
   "cell_type": "code",
   "execution_count": null,
   "metadata": {},
   "outputs": [],
   "source": [
    "config = AACTConfig()\r\n",
    "data_source = AACTDataSource(config)\r\n",
    "data_source.get()"
   ]
  }
 ],
 "metadata": {
  "interpreter": {
   "hash": "4b62ee41eae088310f22249bc5053723b8dd958b1848936c1eeb1c046d6c591a"
  },
  "kernelspec": {
   "display_name": "Python 3.9.5 64-bit ('fda': conda)",
   "name": "python3"
  },
  "language_info": {
   "name": "python",
   "version": ""
  },
  "orig_nbformat": 4
 },
 "nbformat": 4,
 "nbformat_minor": 2
}