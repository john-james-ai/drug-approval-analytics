{
 "cells": [
  {
   "cell_type": "markdown",
   "source": [
    "# Setup\r\n",
    "Setup scripts for internal purposes only."
   ],
   "metadata": {}
  },
  {
   "cell_type": "code",
   "execution_count": 9,
   "source": [
    "import pandas as pd\r\n",
    "from src.utils.config import Config"
   ],
   "outputs": [],
   "metadata": {}
  },
  {
   "cell_type": "markdown",
   "source": [
    "## Data Sources Configuration"
   ],
   "metadata": {}
  },
  {
   "cell_type": "code",
   "execution_count": 10,
   "source": [
    "filepath = './data/metadata/datasources.csv'\r\n",
    "df = pd.read_csv(filepath, index_col=0, parse_dates=['last_updated', 'last_extracted', 'last_staged'])\r\n",
    "sources  = df.to_dict(orient='index')\r\n",
    "config = Config()\r\n",
    "for section, configuration in sources.items():\r\n",
    "    config.set_section(section, configuration)    \r\n"
   ],
   "outputs": [],
   "metadata": {}
  }
 ],
 "metadata": {
  "orig_nbformat": 4,
  "language_info": {
   "name": "python"
  }
 },
 "nbformat": 4,
 "nbformat_minor": 2
}