{
 "cells": [
  {
   "cell_type": "markdown",
   "source": [
    "# Setup\r\n",
    "Scripts for one-time and package setup."
   ],
   "metadata": {}
  },
  {
   "cell_type": "code",
   "execution_count": 8,
   "source": [
    "import pandas as pd\r\n",
    "from src.utilssrc.application.config import repository_credentials, Config\r\n",
    "from src.infrastructure.database import DBA, ColumnSchema, TableAdmin"
   ],
   "outputs": [],
   "metadata": {}
  },
  {
   "cell_type": "markdown",
   "source": [
    "## Internal Setup Scripts\r\n",
    "Internal scripts used to create configuration files. "
   ],
   "metadata": {}
  },
  {
   "cell_type": "markdown",
   "source": [
    "### Data Sources Configuration"
   ],
   "metadata": {}
  },
  {
   "cell_type": "code",
   "execution_count": 9,
   "source": [
    "def setup_datasource_config(filepath):    \r\n",
    "    df = pd.read_csv(filepath, index_col=0, parse_dates=['last_updated', 'last_extracted', 'last_staged'])\r\n",
    "    sources  = df.to_dict(orient='index')\r\n",
    "    config = Config(filepath)\r\n",
    "    for section, configuration in sources.items():\r\n",
    "        config.set_section(section, configuration)    \r\n",
    "filepath = './data/metadata/datasources.csv'\r\n"
   ],
   "outputs": [],
   "metadata": {}
  },
  {
   "cell_type": "markdown",
   "source": [
    "## External Scripts"
   ],
   "metadata": {}
  },
  {
   "cell_type": "markdown",
   "source": [
    "### Build DrugApprovalAnalytics Database "
   ],
   "metadata": {}
  },
  {
   "cell_type": "code",
   "execution_count": null,
   "source": [],
   "outputs": [],
   "metadata": {}
  },
  {
   "cell_type": "code",
   "execution_count": 10,
   "source": [
    "filepath = \"./data/metadata/repository.csv\"\r\n",
    "def build_schema(filepath):\r\n",
    "    df = pd.read_csv(filepath, index_col=0, usecols=[name, constraints])\r\n",
    "    config = df.to_dict('index')\r\n",
    "    columns = []\r\n",
    "    for col, properties in config.items():\r\n",
    "        schema = ColumnSchema(column=col,\r\n",
    "                              datatype=properties['constraints']\r\n",
    "        columns.append(schema)\r\n",
    "\r\n",
    "    return columns\r\n",
    "\r\n",
    "def build_table(columns):\r\n",
    "    admin = TableAdmin(repository_credentials)\r\n",
    "    admin.create('repository', columns)\r\n",
    "setup_repository_config(filepath)"
   ],
   "outputs": [
    {
     "output_type": "stream",
     "name": "stdout",
     "text": [
      "{'event_id': {'datatype': 'UUID', 'nullable': False, 'unique': True, 'primary': True}, 'event_name': {'datatype': 'varchar(40)', 'nullable': False, 'unique': True, 'primary': False}, 'event_description': {'datatype': 'varchar(256)', 'nullable': True, 'unique': False, 'primary': False}, 'event_version': {'datatype': 'integer', 'nullable': False, 'unique': False, 'primary': False}, 'event_created': {'datatype': 'timestamp', 'nullable': False, 'unique': False, 'primary': False}, 'event_updated': {'datatype': 'timestamp', 'nullable': False, 'unique': False, 'primary': False}, 'event_started': {'datatype': 'timestamp', 'nullable': False, 'unique': False, 'primary': False}, 'event_ended': {'datatype': 'timestamp', 'nullable': False, 'unique': False, 'primary': False}, 'event_response_code': {'datatype': 'integer', 'nullable': False, 'unique': False, 'primary': False}, 'event_response_description': {'datatype': 'varchar(256)', 'nullable': False, 'unique': False, 'primary': False}, 'pipeline_id': {'datatype': 'UUID', 'nullable': False, 'unique': True, 'primary': True}, 'pipeline_type': {'datatype': 'varchar(24)', 'nullable': False, 'unique': False, 'primary': False}, 'pipeline_name': {'datatype': 'varchar(40)', 'nullable': False, 'unique': True, 'primary': False}, 'pipeline_description': {'datatype': 'varchar(256)', 'nullable': True, 'unique': False, 'primary': False}, 'pipeline_version': {'datatype': 'integer', 'nullable': False, 'unique': False, 'primary': False}, 'step_id': {'datatype': 'UUID', 'nullable': False, 'unique': True, 'primary': True}, 'step_seq': {'datatype': 'integer', 'nullable': False, 'unique': False, 'primary': False}, 'step_name': {'datatype': 'varchar(40)', 'nullable': False, 'unique': True, 'primary': False}, 'step_description': {'datatype': 'varchar(256)', 'nullable': False, 'unique': False, 'primary': False}, 'step_version': {'datatype': 'integer', 'nullable': False, 'unique': False, 'primary': False}, 'element_id': {'datatype': 'UUID', 'nullable': False, 'unique': True, 'primary': True}, 'element_type': {'datatype': 'varchar(24)', 'nullable': False, 'unique': False, 'primary': False}, 'element_name': {'datatype': 'varchar(40)', 'nullable': False, 'unique': True, 'primary': False}, 'element_description': {'datatype': 'varchar(256)', 'nullable': True, 'unique': False, 'primary': False}, 'element_version': {'datatype': 'integer', 'nullable': False, 'unique': False, 'primary': False}, 'element_uri': {'datatype': 'varchar(512)', 'nullable': False, 'unique': False, 'primary': False}, 'element_last_extracted': {'datatype': 'timestamp', 'nullable': False, 'unique': False, 'primary': False}, 'element_last_updated': {'datatype': 'timestamp', 'nullable': False, 'unique': False, 'primary': False}, 'element_last_staged': {'datatype': 'timestamp', 'nullable': False, 'unique': False, 'primary': False}}\n"
     ]
    }
   ],
   "metadata": {}
  }
 ],
 "metadata": {
  "orig_nbformat": 4,
  "language_info": {
   "name": "python",
   "version": "3.9.5",
   "mimetype": "text/x-python",
   "codemirror_mode": {
    "name": "ipython",
    "version": 3
   },
   "pygments_lexer": "ipython3",
   "nbconvert_exporter": "python",
   "file_extension": ".py"
  },
  "kernelspec": {
   "name": "python3",
   "display_name": "Python 3.9.5 64-bit ('fda': conda)"
  },
  "interpreter": {
   "hash": "4b62ee41eae088310f22249bc5053723b8dd958b1848936c1eeb1c046d6c591a"
  }
 },
 "nbformat": 4,
 "nbformat_minor": 2
}