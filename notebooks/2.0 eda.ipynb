{
 "cells": [
  {
   "cell_type": "markdown",
   "source": [
    "# Exploratory Data Analysis (EDA)\r\n",
    "This three-part EDA is organized as follows:    \r\n",
    "\r\n",
    "1. **Data Quality (DQ) Assessment**: What is the correctness, consistency, completeness and currency of the data?       \r\n",
    "2. **Descriptive Analytics**: What clinical trials were conducted by phase, which transitioned to subsequent phases and which trials contributed to a successful regulatory submission?\r\n",
    "3. **Diagnostic Analytics**: Why did some clinical trials produced regulatory success, and why others did not. Which features were most highly correlated with regulatory outcome?      \r\n",
    "\r\n",
    "The following clinical trial, drug, biologic, and drug labeling data were extracted from the FDA and the Clinical Trials Transformation Initiative websites and serve as the principle data sources for this project.\r\n",
    "\r\n",
    "| Title               | Subject                                                    | Coverage     | Creator                                                 |\r\n",
    "|---------------------|------------------------------------------------------------|--------------|---------------------------------------------------------|\r\n",
    "| AACT                | The Database for Aggregate Analysis of ClinicalTrials.gov  | 2000-Present | ClinicalTrials.gov                                      |\r\n",
    "| Drugs@FDA           | FDA Approved Pharmaceuticals                               | 1939-Present | Center for Drug Evaluation and Research (CDER)          |\r\n",
    "| Purple Book         | FDA Approved Biologics and Biosimilars                     | 1909-Present | CBERCenter for Biologics Evaluation and Research (CBER) |\r\n",
    "| Human Drug Labeling | FDA Approved Drug Labeling                                 | 1939-Present | openFDA                                                 |\r\n",
    "\r\n",
    "## Data Quality Assessment\r\n",
    "\r\n",
    "[Data Quality Assessment](./dqa.ipynb#Data-Quality-Assessment)       \r\n",
    "[Descriptive Analytics](./descriptive.ipynb#Descriptive-Analytics)           \r\n",
    "[Diagnostic Analytics](./diagnostic.ipynb#Diagnostic-Analytics)            "
   ],
   "metadata": {}
  }
 ],
 "metadata": {
  "orig_nbformat": 4,
  "language_info": {
   "name": "python"
  }
 },
 "nbformat": 4,
 "nbformat_minor": 2
}