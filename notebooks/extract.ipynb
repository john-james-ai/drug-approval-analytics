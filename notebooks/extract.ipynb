{
 "cells": [
  {
   "cell_type": "markdown",
   "metadata": {},
   "source": [
    "# Extract\r\n",
    "This module extracts and downloads data from:\r\n",
    "- Drugs@FDA\r\n",
    "- PurpleBook\r\n",
    "- Drug Labels\r\n",
    "- OpenTargets Datasets\r\n",
    "- DrugBank\r\n"
   ]
  },
  {
   "cell_type": "code",
   "execution_count": 1,
   "metadata": {},
   "outputs": [],
   "source": [
    "# Setup\r\n",
    "import os\r\n",
    "import shutil\r\n",
    "import pandas as pd\r\n",
    "pd.set_option('display.max_rows',500)\r\n",
    "\r\n",
    "from src.data.extract import WebExtractor, ZipExtractor\r\n",
    "from src.data.sources import AACT, DrugsFDA, OpenFDALabel, OpenFDA_NDC\r\n",
    "from src.data.database import DBAdmin"
   ]
  },
  {
   "cell_type": "code",
   "execution_count": 2,
   "metadata": {},
   "outputs": [
    {
     "name": "stdout",
     "output_type": "stream",
     "text": [
      "./data/backups/aact/AACT_2021-06-30.dump\n"
     ]
    }
   ],
   "source": [
    "# -----------------------------------------------------------------------------#\r\n",
    "#                                  AACT                                        #\r\n",
    "# -----------------------------------------------------------------------------#\r\n",
    "source = AACT()\r\n",
    "extractor = ZipExtractor(datasource=source)\r\n",
    "extractor.extract(force=False)\r\n",
    "# db = DBAdmin()\r\n",
    "# db.backup()\r\n"
   ]
  },
  {
   "cell_type": "code",
   "execution_count": null,
   "metadata": {},
   "outputs": [],
   "source": [
    "# -----------------------------------------------------------------------------#\r\n",
    "#                               DRUGS@FDA                                      #\r\n",
    "# -----------------------------------------------------------------------------#\r\n",
    "# Save Drugs@FDA data\r\n",
    "source = DrugsFDA()\r\n",
    "extractor = WebExtractor(datasource=source)\r\n",
    "extractor.extract(force=True)"
   ]
  },
  {
   "cell_type": "code",
   "execution_count": null,
   "metadata": {},
   "outputs": [],
   "source": [
    "# -----------------------------------------------------------------------------#\r\n",
    "#                           OPEN FDA DRUG LABELING                             #\r\n",
    "# -----------------------------------------------------------------------------#\r\n",
    "source = OpenFDALabel()\r\n",
    "extractor = ZipExtractor(datasource=source)\r\n",
    "extractor.extract(force=False)\r\n"
   ]
  },
  {
   "cell_type": "code",
   "execution_count": null,
   "metadata": {},
   "outputs": [],
   "source": [
    "# -----------------------------------------------------------------------------#\r\n",
    "#                             OPEN FDA DRUG NDC                                #\r\n",
    "# -----------------------------------------------------------------------------#\r\n",
    "source = OpenFDA_NDC()\r\n",
    "extractor = ZipExtractor(datasource=source)\r\n",
    "extractor.extract()\r\n",
    "\r\n",
    "\r\n"
   ]
  }
 ],
 "metadata": {
  "interpreter": {
   "hash": "4b62ee41eae088310f22249bc5053723b8dd958b1848936c1eeb1c046d6c591a"
  },
  "kernelspec": {
   "display_name": "Python 3.9.5 64-bit ('fda': conda)",
   "name": "python3"
  },
  "language_info": {
   "name": "python",
   "version": ""
  },
  "orig_nbformat": 4
 },
 "nbformat": 4,
 "nbformat_minor": 2
}