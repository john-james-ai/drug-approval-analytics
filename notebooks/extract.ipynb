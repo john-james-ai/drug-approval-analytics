{
 "cells": [
  {
   "cell_type": "markdown",
   "metadata": {},
   "source": [
    "# Extract\r\n",
    "This module extracts data from their source, converts the data to csv format and stores it in the data lake a.k.a. the extracted directory. At this stage, changes are limited to datatypes only."
   ]
  },
  {
   "cell_type": "code",
   "execution_count": 1,
   "metadata": {},
   "outputs": [],
   "source": [
    "# Setup\r\n",
    "import os\r\n",
    "import types\r\n",
    "import shutil\r\n",
    "import numpy as np\r\n",
    "import pandas as pd\r\n",
    "import openpyxl\r\n",
    "pd.set_option('display.max_rows',500)\r\n",
    "\r\n",
    "from src.data.database import DBAdmin, DBDao\r\n",
    "from configs.config import AACTConfig"
   ]
  },
  {
   "cell_type": "markdown",
   "metadata": {},
   "source": [
    "## Aggregate Content of ClinicalTrials.gov (AACT)"
   ]
  },
  {
   "cell_type": "code",
   "execution_count": 2,
   "metadata": {},
   "outputs": [],
   "source": [
    "# Get tables\r\n",
    "config = AACTConfig()\r\n",
    "dbadmin = DBAdmin(config)\r\n",
    "tables = dbadmin.tables    \r\n",
    "\r\n",
    "aact_metadata_dir = \"./data/metadata/aact/\"\r\n",
    "meta_columns = ['ordinal_position', 'table_name', 'column_name','data_type', 'dtype']\r\n",
    "dtype_map = {'string': 'string', 'text': 'string', 'character varying': 'string', 'boolean': 'boolean',\r\n",
    "             'date': 'datetime', 'integer': 'float', 'timestamp without time zone': 'datetime'}\r\n",
    "\r\n",
    "def handle_metadata(dbadmin, tables, directory, meta_columns, dtype_map):\r\n",
    "    for table in tables:\r\n",
    "        columns = dbadmin.get_columns(table)  \r\n",
    "        filepath = aact_metadata_dir + table + '.csv'      \r\n",
    "        columns['dtype'] = columns[\"data_type\"].apply(lambda x: dtype_map.get(x))\r\n",
    "        columns[meta_columns].to_csv(filepath, index=False) \r\n",
    "\r\n",
    "handle_metadata(dbadmin, tables, aact_metadata_dir, meta_columns, dtype_map)\r\n"
   ]
  }
 ],
 "metadata": {
  "interpreter": {
   "hash": "4b62ee41eae088310f22249bc5053723b8dd958b1848936c1eeb1c046d6c591a"
  },
  "kernelspec": {
   "display_name": "Python 3.9.5 64-bit ('fda': conda)",
   "name": "python3"
  },
  "language_info": {
   "codemirror_mode": {
    "name": "ipython",
    "version": 3
   },
   "file_extension": ".py",
   "mimetype": "text/x-python",
   "name": "python",
   "nbconvert_exporter": "python",
   "pygments_lexer": "ipython3",
   "version": "3.9.5"
  },
  "orig_nbformat": 4
 },
 "nbformat": 4,
 "nbformat_minor": 2
}