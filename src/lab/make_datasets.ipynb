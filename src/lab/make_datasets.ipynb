{
 "cells": [
  {
   "cell_type": "markdown",
   "metadata": {},
   "source": [
    "# Make Datasets\r\n",
    "This module reads the Postgres data and stores them in csv files converting the data types to their python equivalents."
   ]
  },
  {
   "cell_type": "code",
   "execution_count": 1,
   "metadata": {},
   "outputs": [],
   "source": [
    "import os\r\n",
    "import pandas as pd\r\n",
    "\r\n",
    "from configs.config import get_config\r\n",
    "from src.database.aact_db import AACTDao\r\n",
    "from src.database.sql import Queryator"
   ]
  },
  {
   "cell_type": "code",
   "execution_count": 2,
   "metadata": {},
   "outputs": [
    {
     "name": "stdout",
     "output_type": "stream",
     "text": [
      "Initializing AACT database.\n",
      "Acquiring connection\n",
      "Obtained connection to AACT database.\n"
     ]
    }
   ],
   "source": [
    "# -----------------------------------------------------------------------------#\r\n",
    "#                               SETUP                                          #\r\n",
    "# -----------------------------------------------------------------------------#\r\n",
    "# Queryator generates basic sql queries \r\n",
    "# AACTDao is data access object for the AACT database. It exposes methods\r\n",
    "# to connect to the database and run queries.\r\n",
    "# The directories dictionary contains the directory structure for the data\r\n",
    "# directories. The raw data will be stored in the \"/data/raw/\"\" directory.\r\n",
    "qg = Queryator()\r\n",
    "aact = AACTDao()\r\n",
    "directories = get_config(section=\"directories\")"
   ]
  },
  {
   "cell_type": "code",
   "execution_count": 3,
   "metadata": {},
   "outputs": [],
   "source": [
    "# -----------------------------------------------------------------------------#\r\n",
    "#                                TABLE                                         #\r\n",
    "# -----------------------------------------------------------------------------#\r\n",
    "def get_table_metadata(table):\r\n",
    "    '''Get_table_metadata\r\n",
    "    Obtains metadata for the table, including the shape and the schema. The\r\n",
    "    schema includes the column names and the data types.\r\n",
    "\r\n",
    "    Parameter\r\n",
    "    ---------\r\n",
    "    table : str\r\n",
    "        Contains the name of hte table to be evaluated.\r\n",
    "\r\n",
    "    Returns\r\n",
    "    -------\r\n",
    "    dict : Containing two nested dictionaries for the shape and schema.\r\n",
    "    '''\r\n",
    "    \r\n",
    "    meta = {}\r\n",
    "    nrows_query = qg.nrows(table)\r\n",
    "    ncols_query = qg.ncols(table)    \r\n",
    "    schema_query = qg.columns(table, True)\r\n",
    "\r\n",
    "    nrows = aact.read_table(nrows_query, coerce_float=True)\r\n",
    "    ncols = aact.read_table(ncols_query, coerce_float=True)\r\n",
    "    cols_dtypes = aact.read_table(schema_query)    \r\n",
    "\r\n",
    "    meta['shape'] = {'nrows': nrows, 'ncols': ncols}\r\n",
    "    meta['schema'] = cols_dtypes\r\n",
    "    return meta"
   ]
  },
  {
   "cell_type": "code",
   "execution_count": null,
   "metadata": {},
   "outputs": [],
   "source": [
    "# -----------------------------------------------------------------------------#\r\n",
    "#                                STUDIES                                       #\r\n",
    "# -----------------------------------------------------------------------------#\r\n",
    "def get_studies():\r\n",
    "    data = aact.read(\"studies\")\r\n",
    "    df = pd.DataFrame(data, )\r\n",
    "\r\n"
   ]
  },
  {
   "cell_type": "code",
   "execution_count": 4,
   "metadata": {},
   "outputs": [
    {
     "name": "stdout",
     "output_type": "stream",
     "text": [
      "['character varying' 'date' 'text' 'integer' 'boolean'\n",
      " 'timestamp without time zone']\n"
     ]
    }
   ],
   "source": []
  }
 ],
 "metadata": {
  "interpreter": {
   "hash": "4b62ee41eae088310f22249bc5053723b8dd958b1848936c1eeb1c046d6c591a"
  },
  "kernelspec": {
   "display_name": "Python 3.9.5 64-bit ('fda': conda)",
   "name": "python3"
  },
  "language_info": {
   "codemirror_mode": {
    "name": "ipython",
    "version": 3
   },
   "file_extension": ".py",
   "mimetype": "text/x-python",
   "name": "python",
   "nbconvert_exporter": "python",
   "pygments_lexer": "ipython3",
   "version": "3.9.5"
  },
  "orig_nbformat": 4
 },
 "nbformat": 4,
 "nbformat_minor": 2
}